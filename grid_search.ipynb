{
 "cells": [
  {
   "cell_type": "code",
   "execution_count": 3,
   "id": "66f53dc2",
   "metadata": {},
   "outputs": [
    {
     "name": "stdout",
     "output_type": "stream",
     "text": [
      "The autoreload extension is already loaded. To reload it, use:\n",
      "  %reload_ext autoreload\n"
     ]
    }
   ],
   "source": [
    "%load_ext autoreload\n",
    "%autoreload 2\n",
    "\n",
    "from genetic_algorithm import *"
   ]
  },
  {
   "cell_type": "code",
   "execution_count": 4,
   "id": "6e4c8783",
   "metadata": {},
   "outputs": [
    {
     "name": "stderr",
     "output_type": "stream",
     "text": [
      "Grid Search Progress:   0%|          | 0/432 [00:04<?, ?run/s]\n"
     ]
    },
    {
     "ename": "KeyboardInterrupt",
     "evalue": "",
     "output_type": "error",
     "traceback": [
      "\u001b[31m---------------------------------------------------------------------------\u001b[39m",
      "\u001b[31mKeyboardInterrupt\u001b[39m                         Traceback (most recent call last)",
      "\u001b[36mCell\u001b[39m\u001b[36m \u001b[39m\u001b[32mIn[4]\u001b[39m\u001b[32m, line 1\u001b[39m\n\u001b[32m----> \u001b[39m\u001b[32m1\u001b[39m run_grid_search()\n",
      "\u001b[36mFile \u001b[39m\u001b[32m~/Documents/CIFO_project_groupA/Operators/genetic_algorithm.py:295\u001b[39m, in \u001b[36mrun_grid_search\u001b[39m\u001b[34m()\u001b[39m\n\u001b[32m    291\u001b[39m run_params = \u001b[38;5;28mdict\u001b[39m(\u001b[38;5;28mzip\u001b[39m(keys, params))\n\u001b[32m    292\u001b[39m \u001b[38;5;66;03m#print(f\"\\nRunning combination {i+1}/{total_runs}:\")\u001b[39;00m\n\u001b[32m    293\u001b[39m \u001b[38;5;66;03m#for k, v in run_params.items():\u001b[39;00m\n\u001b[32m    294\u001b[39m     \u001b[38;5;66;03m#print(f\"  {k}: {v.__name__ if callable(v) else v}\")\u001b[39;00m\n\u001b[32m--> \u001b[39m\u001b[32m295\u001b[39m run_algorithm(**run_params)\n",
      "\u001b[36mFile \u001b[39m\u001b[32m~/Documents/CIFO_project_groupA/Operators/genetic_algorithm.py:194\u001b[39m, in \u001b[36mrun_algorithm\u001b[39m\u001b[34m(filepath, log_path, POP_SIZE, max_gen, elitism, verbose, mutation, mut_prob, crossover, xo_prob, selection_algorithm)\u001b[39m\n\u001b[32m    192\u001b[39m \u001b[38;5;66;03m# Main GA loop\u001b[39;00m\n\u001b[32m    193\u001b[39m \u001b[38;5;28;01mwhile\u001b[39;00m \u001b[38;5;28mlen\u001b[39m(new_population) < \u001b[38;5;28mlen\u001b[39m(population):\n\u001b[32m--> \u001b[39m\u001b[32m194\u001b[39m     first_ind = selection_algorithm(population)\n\u001b[32m    195\u001b[39m     second_ind = selection_algorithm(population)\n\u001b[32m    197\u001b[39m     \u001b[38;5;28;01mif\u001b[39;00m \u001b[38;5;129;01mnot\u001b[39;00m first_ind \u001b[38;5;129;01mor\u001b[39;00m \u001b[38;5;129;01mnot\u001b[39;00m second_ind:\n",
      "\u001b[36mFile \u001b[39m\u001b[32m~/Documents/CIFO_project_groupA/Operators/selection.py:16\u001b[39m, in \u001b[36mroulette_selection\u001b[39m\u001b[34m(population)\u001b[39m\n\u001b[32m     14\u001b[39m weights = []\n\u001b[32m     15\u001b[39m \u001b[38;5;28;01mfor\u001b[39;00m league \u001b[38;5;129;01min\u001b[39;00m population:\n\u001b[32m---> \u001b[39m\u001b[32m16\u001b[39m     f = calculate_fitness(league)\n\u001b[32m     17\u001b[39m     \u001b[38;5;28;01mif\u001b[39;00m f <= \u001b[32m0\u001b[39m \u001b[38;5;129;01mor\u001b[39;00m f == \u001b[32m9999\u001b[39m:\n\u001b[32m     18\u001b[39m         weights.append(\u001b[32m1e-7\u001b[39m)\n",
      "\u001b[36mFile \u001b[39m\u001b[32m~/Documents/CIFO_project_groupA/Operators/population.py:94\u001b[39m, in \u001b[36mcalculate_fitness\u001b[39m\u001b[34m(league)\u001b[39m\n\u001b[32m     91\u001b[39m     \u001b[38;5;28;01mreturn\u001b[39;00m \u001b[32m9999\u001b[39m\n\u001b[32m     93\u001b[39m \u001b[38;5;66;03m# If it's valid, compute and return the standard deviation of average skills\u001b[39;00m\n\u001b[32m---> \u001b[39m\u001b[32m94\u001b[39m \u001b[38;5;28;01mreturn\u001b[39;00m league.get_skill_std_dev()\n",
      "\u001b[36mFile \u001b[39m\u001b[32m~/Documents/CIFO_project_groupA/Operators/population.py:75\u001b[39m, in \u001b[36mLeague.get_skill_std_dev\u001b[39m\u001b[34m(self)\u001b[39m\n\u001b[32m     73\u001b[39m avg_skills = [team.get_average_skill() \u001b[38;5;28;01mfor\u001b[39;00m team \u001b[38;5;129;01min\u001b[39;00m \u001b[38;5;28mself\u001b[39m.teams]\n\u001b[32m     74\u001b[39m \u001b[38;5;66;03m# Return the standard deviation of the average skill levels of the teams\u001b[39;00m\n\u001b[32m---> \u001b[39m\u001b[32m75\u001b[39m \u001b[38;5;28;01mreturn\u001b[39;00m np.std(avg_skills)\n",
      "\u001b[36mFile \u001b[39m\u001b[32m/opt/anaconda3/envs/TextMining/lib/python3.12/site-packages/numpy/core/fromnumeric.py:3645\u001b[39m, in \u001b[36mstd\u001b[39m\u001b[34m(a, axis, dtype, out, ddof, keepdims, where)\u001b[39m\n\u001b[32m   3642\u001b[39m     \u001b[38;5;28;01melse\u001b[39;00m:\n\u001b[32m   3643\u001b[39m         \u001b[38;5;28;01mreturn\u001b[39;00m std(axis=axis, dtype=dtype, out=out, ddof=ddof, **kwargs)\n\u001b[32m-> \u001b[39m\u001b[32m3645\u001b[39m \u001b[38;5;28;01mreturn\u001b[39;00m _methods._std(a, axis=axis, dtype=dtype, out=out, ddof=ddof,\n\u001b[32m   3646\u001b[39m                      **kwargs)\n",
      "\u001b[36mFile \u001b[39m\u001b[32m/opt/anaconda3/envs/TextMining/lib/python3.12/site-packages/numpy/core/_methods.py:206\u001b[39m, in \u001b[36m_std\u001b[39m\u001b[34m(a, axis, dtype, out, ddof, keepdims, where)\u001b[39m\n\u001b[32m    204\u001b[39m \u001b[38;5;28;01mdef\u001b[39;00m\u001b[38;5;250m \u001b[39m\u001b[34m_std\u001b[39m(a, axis=\u001b[38;5;28;01mNone\u001b[39;00m, dtype=\u001b[38;5;28;01mNone\u001b[39;00m, out=\u001b[38;5;28;01mNone\u001b[39;00m, ddof=\u001b[32m0\u001b[39m, keepdims=\u001b[38;5;28;01mFalse\u001b[39;00m, *,\n\u001b[32m    205\u001b[39m          where=\u001b[38;5;28;01mTrue\u001b[39;00m):\n\u001b[32m--> \u001b[39m\u001b[32m206\u001b[39m     ret = _var(a, axis=axis, dtype=dtype, out=out, ddof=ddof,\n\u001b[32m    207\u001b[39m                keepdims=keepdims, where=where)\n\u001b[32m    209\u001b[39m     \u001b[38;5;28;01mif\u001b[39;00m \u001b[38;5;28misinstance\u001b[39m(ret, mu.ndarray):\n\u001b[32m    210\u001b[39m         ret = um.sqrt(ret, out=ret)\n",
      "\u001b[36mFile \u001b[39m\u001b[32m/opt/anaconda3/envs/TextMining/lib/python3.12/site-packages/numpy/core/_methods.py:175\u001b[39m, in \u001b[36m_var\u001b[39m\u001b[34m(a, axis, dtype, out, ddof, keepdims, where)\u001b[39m\n\u001b[32m    170\u001b[39m \u001b[38;5;66;03m# Compute sum of squared deviations from mean\u001b[39;00m\n\u001b[32m    171\u001b[39m \u001b[38;5;66;03m# Note that x may not be inexact and that we need it to be an array,\u001b[39;00m\n\u001b[32m    172\u001b[39m \u001b[38;5;66;03m# not a scalar.\u001b[39;00m\n\u001b[32m    173\u001b[39m x = asanyarray(arr - arrmean)\n\u001b[32m--> \u001b[39m\u001b[32m175\u001b[39m \u001b[38;5;28;01mif\u001b[39;00m \u001b[38;5;28missubclass\u001b[39m(arr.dtype.type, (nt.floating, nt.integer)):\n\u001b[32m    176\u001b[39m     x = um.multiply(x, x, out=x)\n\u001b[32m    177\u001b[39m \u001b[38;5;66;03m# Fast-paths for built-in complex types\u001b[39;00m\n",
      "\u001b[31mKeyboardInterrupt\u001b[39m: "
     ]
    }
   ],
   "source": [
    "run_grid_search()"
   ]
  }
 ],
 "metadata": {
  "kernelspec": {
   "display_name": "TextMining",
   "language": "python",
   "name": "python3"
  },
  "language_info": {
   "codemirror_mode": {
    "name": "ipython",
    "version": 3
   },
   "file_extension": ".py",
   "mimetype": "text/x-python",
   "name": "python",
   "nbconvert_exporter": "python",
   "pygments_lexer": "ipython3",
   "version": "3.12.9"
  }
 },
 "nbformat": 4,
 "nbformat_minor": 5
}
