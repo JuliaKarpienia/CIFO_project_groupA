{
 "cells": [
  {
   "cell_type": "code",
   "execution_count": 1,
   "id": "66f53dc2",
   "metadata": {},
   "outputs": [],
   "source": [
    "%load_ext autoreload\n",
    "%autoreload 2\n",
    "\n",
    "from Operators.genetic_algorithm import *\n",
    "from Operators.evaluation import *"
   ]
  },
  {
   "cell_type": "code",
   "execution_count": 2,
   "id": "41219df8",
   "metadata": {},
   "outputs": [],
   "source": [
    "   # Define the parameter grid\n",
    "param_grid = {\n",
    "        \"POP_SIZE\": [100],\n",
    "        # \"max_gen\": [50, 100],\n",
    "        \"mut_prob\": [0.1],#, 0.3],\n",
    "        \"xo_prob\":  [0.9],\n",
    "        \"mutation\": [single_player_swap_2teams],\n",
    "        \"crossover\": [crossover_swap_whole_position],\n",
    "        \"selection_algorithm\": [roulette_selection, tournament_selection]}"
   ]
  },
  {
   "cell_type": "code",
   "execution_count": 3,
   "id": "fce15dab",
   "metadata": {},
   "outputs": [],
   "source": [
    "#    # Define the parameter grid\n",
    "# param_grid = {\n",
    "#         \"POP_SIZE\": [50, 100],\n",
    "#         \"max_gen\": [50, 100],\n",
    "#         \"mut_prob\": [0.1, 0.2],#, 0.3],\n",
    "#         \"xo_prob\":  [0.9],\n",
    "#         \"mutation\": [single_player_swap_2teams, single_player_shift_all_teams, full_position_swap_2teams],\n",
    "#         \"crossover\": [crossover_swap_whole_position, crossover_swap_extreme_player],\n",
    "#         \"selection_algorithm\": [roulette_selection, tournament_selection]}\n"
   ]
  },
  {
   "cell_type": "code",
   "execution_count": 4,
   "id": "6e4c8783",
   "metadata": {},
   "outputs": [
    {
     "name": "stderr",
     "output_type": "stream",
     "text": [
      "Grid Search Progress: 100%|██████████| 2/2 [34:07<00:00, 1023.72s/config]"
     ]
    },
    {
     "name": "stdout",
     "output_type": "stream",
     "text": [
      "\n",
      "Summary saved to: ga_summary.csv\n"
     ]
    },
    {
     "name": "stderr",
     "output_type": "stream",
     "text": [
      "\n"
     ]
    }
   ],
   "source": [
    "run_grid_search(\n",
    "    param_grid=param_grid,\n",
    "    n_runs=30,\n",
    "    max_gen=100,\n",
    "    filepath=\"Data/players(in).csv\",           \n",
    "    summary_path=\"ga_summary.csv\",            \n",
    "    output_folder=\"fitness_logs\"               # folder to save 30x200 convergence logs\n",
    ")\n"
   ]
  }
 ],
 "metadata": {
  "kernelspec": {
   "display_name": "TextMining",
   "language": "python",
   "name": "python3"
  },
  "language_info": {
   "codemirror_mode": {
    "name": "ipython",
    "version": 3
   },
   "file_extension": ".py",
   "mimetype": "text/x-python",
   "name": "python",
   "nbconvert_exporter": "python",
   "pygments_lexer": "ipython3",
   "version": "3.12.6"
  }
 },
 "nbformat": 4,
 "nbformat_minor": 5
}
