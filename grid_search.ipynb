{
 "cells": [
  {
   "cell_type": "code",
   "execution_count": 1,
   "id": "66f53dc2",
   "metadata": {},
   "outputs": [],
   "source": [
    "%load_ext autoreload\n",
    "%autoreload 2\n",
    "\n",
    "from Operators.genetic_algorithm import *"
   ]
  },
  {
   "cell_type": "markdown",
   "id": "cbfea3e3",
   "metadata": {},
   "source": [
    "## 1. Gridsearch to find mutation, crossover and selection algorithm"
   ]
  },
  {
   "cell_type": "code",
   "execution_count": 2,
   "id": "41219df8",
   "metadata": {},
   "outputs": [],
   "source": [
    "   # Define the parameter grid\n",
    "param_grid = {\n",
    "        \"POP_SIZE\": [100],\n",
    "        \"mut_prob\": [0.1],\n",
    "        \"xo_prob\":  [0.9],\n",
    "        \"mutation\": [single_player_swap_2teams, single_player_shift_all_teams, full_position_swap_2teams],\n",
    "        \"crossover\": [crossover_swap_whole_position, crossover_swap_extreme_player],\n",
    "        \"selection_algorithm\": [roulette_selection, tournament_selection],\n",
    "        \"elitism\":[True, False]}"
   ]
  },
  {
   "cell_type": "code",
   "execution_count": 4,
   "id": "6e4c8783",
   "metadata": {},
   "outputs": [
    {
     "name": "stderr",
     "output_type": "stream",
     "text": [
      "Grid Search Progress: 100%|██████████| 24/24 [1:08:19<00:00, 170.80s/config]"
     ]
    },
    {
     "name": "stdout",
     "output_type": "stream",
     "text": [
      "\n",
      "Summary saved to: ga_summary_elit.csv\n"
     ]
    },
    {
     "name": "stderr",
     "output_type": "stream",
     "text": [
      "\n"
     ]
    }
   ],
   "source": [
    "run_grid_search(\n",
    "    param_grid=param_grid,\n",
    "    n_runs=30,\n",
    "    max_gen=40,\n",
    "    filepath=\"Data/players(in).csv\",           \n",
    "    summary_path=\"ga_summary_elit.csv\",            \n",
    "    output_folder=\"fitness_logs_elit\"              # folder to save 30x200 convergence logs\n",
    ")\n"
   ]
  },
  {
   "cell_type": "markdown",
   "id": "ca211443",
   "metadata": {},
   "source": [
    "## 2. Grid Search for probability (it think this one is not relevant anymore)"
   ]
  },
  {
   "cell_type": "code",
   "execution_count": null,
   "id": "ac852aa5",
   "metadata": {},
   "outputs": [],
   "source": [
    "param_grid = {\n",
    "        \"POP_SIZE\": [50, 100],\n",
    "        \"mut_prob\": [0.1, 0.3, 0,5, 0.9],\n",
    "        \"xo_prob\":  [0.9, 0.5, 0.3, 0.1],\n",
    "        \"mutation\": [single_player_swap_2teams],\n",
    "        \"crossover\": [crossover_swap_whole_position],\n",
    "        \"selection_algorithm\": [roulette_selection],\n",
    "        \"elitism\":[False]}"
   ]
  },
  {
   "cell_type": "code",
   "execution_count": null,
   "id": "ca46af87",
   "metadata": {},
   "outputs": [
    {
     "name": "stderr",
     "output_type": "stream",
     "text": [
      "Grid Search Progress: 100%|██████████| 60/60 [7:43:51<00:00, 463.85s/config]  "
     ]
    },
    {
     "name": "stdout",
     "output_type": "stream",
     "text": [
      "\n",
      "Summary saved to: ga_summary2.csv\n"
     ]
    },
    {
     "name": "stderr",
     "output_type": "stream",
     "text": [
      "\n"
     ]
    }
   ],
   "source": [
    "run_grid_search(\n",
    "    param_grid=param_grid,\n",
    "    n_runs=30,\n",
    "    max_gen=40,\n",
    "    filepath=\"Data/players(in).csv\",           \n",
    "    summary_path=\"ga_summary2.csv\",            \n",
    "    output_folder=\"fitness_logs2\"              # folder to save 30x200 convergence logs\n",
    ")\n"
   ]
  },
  {
   "cell_type": "markdown",
   "id": "4b485149",
   "metadata": {},
   "source": [
    "## 3. Grid Search for best mutation, crossover and selection_algorithm "
   ]
  },
  {
   "cell_type": "code",
   "execution_count": 7,
   "id": "1db97bf1",
   "metadata": {},
   "outputs": [],
   "source": [
    "param_grid = {\n",
    "        \"POP_SIZE\": [100],\n",
    "        \"mut_prob\": [0.1, 0.5, 1.0],\n",
    "        \"xo_prob\":  [0.1, 0.5, 1.0],\n",
    "        \"mutation\": [full_position_swap_2teams],\n",
    "        \"crossover\": [crossover_swap_extreme_player],\n",
    "        \"selection_algorithm\": [roulette_selection],\n",
    "        \"elitism\":[True]}"
   ]
  },
  {
   "cell_type": "code",
   "execution_count": 8,
   "id": "fd9bfa37",
   "metadata": {},
   "outputs": [
    {
     "name": "stderr",
     "output_type": "stream",
     "text": [
      "Grid Search Progress:   0%|          | 0/9 [00:00<?, ?config/s]"
     ]
    },
    {
     "name": "stderr",
     "output_type": "stream",
     "text": [
      "Grid Search Progress: 100%|██████████| 9/9 [44:15<00:00, 295.10s/config]"
     ]
    },
    {
     "name": "stdout",
     "output_type": "stream",
     "text": [
      "\n",
      "Summary saved to: ga_summary4_elit.csv\n"
     ]
    },
    {
     "name": "stderr",
     "output_type": "stream",
     "text": [
      "\n"
     ]
    }
   ],
   "source": [
    "run_grid_search(\n",
    "    param_grid=param_grid,\n",
    "    n_runs=30,\n",
    "    max_gen=40,\n",
    "    filepath=\"Data/players(in).csv\",           \n",
    "    summary_path=\"ga_summary_elit_final.csv\",            \n",
    "    output_folder=\"fitness_logs_elit_final\"            \n",
    ")"
   ]
  }
 ],
 "metadata": {
  "kernelspec": {
   "display_name": "TextMining",
   "language": "python",
   "name": "python3"
  },
  "language_info": {
   "codemirror_mode": {
    "name": "ipython",
    "version": 3
   },
   "file_extension": ".py",
   "mimetype": "text/x-python",
   "name": "python",
   "nbconvert_exporter": "python",
   "pygments_lexer": "ipython3",
   "version": "3.12.6"
  }
 },
 "nbformat": 4,
 "nbformat_minor": 5
}
