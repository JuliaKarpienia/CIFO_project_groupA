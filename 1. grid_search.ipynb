{
 "cells": [
  {
   "cell_type": "markdown",
   "id": "9b9735d8",
   "metadata": {},
   "source": [
    "## **<h3 align=\"center\"> Computational Intelligence for Optimization</h3>**\n",
    "# **<h3 align=\"center\">Grid Search</h3>**\n",
    "**Group members:**<br>\n",
    "Alexandra Pinto - 20211599@novaims.unl.pt - 20211599<br>\n",
    "Julia Karpienia  - 20240514@novaims.unl.pt - 20240514<br>\n",
    "Steven Carlson - 20240554@novaims.unl.pt - 20240554 <br>\n",
    "Tim Straub - 20240505@novaims.unl.pt - 20240505"
   ]
  },
  {
   "cell_type": "markdown",
   "id": "12dc189e",
   "metadata": {},
   "source": [
    "<a id = \"toc\"></a>\n",
    "\n",
    "## Table of Contents\n",
    "1. [Introduction](#intro)\n",
    "2. [Import & Setup](#import_setup)\n",
    "3. [Grid Search](#grid_search)\n",
    "   - 3.1. [Grid Search 1 - Mutation, Crossover, Selection, Elitism](#grid_search_1)\n",
    "   - 3.2. [Grid Search 3 - Best Mutation, Crossover and Selection Algorithm](#grid_search_2)\n",
    "4. [Conclusion](#conclusion)"
   ]
  },
  {
   "cell_type": "markdown",
   "id": "67101b92",
   "metadata": {},
   "source": [
    "#  1. Introduction <a class=\"anchor\" id=\"intro\"></a> \n",
    "[Back to ToC](#toc)<br>\n",
    "\n",
    "This notebook presents a series of grid search experiments designed to tune the parameters of a Genetic Algorithm (GA) used for team optimization. The GA evolves a population of soccer teams to minimize fitness based on player attributes and constraints.\n",
    "\n",
    "We aim to:\n",
    "\n",
    "- Identify the best-performing combination of mutation, crossover, and selection operators.\n",
    "\n",
    "- Evaluate the effect of elitism on performance and convergence.\n",
    "\n",
    "- Analyze performance consistency across 30 independent runs.\n",
    "\n",
    "- Explore the influence of crossover and mutation probabilities (legacy experiment).\n"
   ]
  },
  {
   "cell_type": "markdown",
   "id": "1f657266",
   "metadata": {},
   "source": [
    "# 2. Import & Setup <a class=\"anchor\" id=\"import_setup\"></a>\n",
    "\n",
    "[Back to ToC](#toc)<br>"
   ]
  },
  {
   "cell_type": "code",
   "execution_count": null,
   "id": "66f53dc2",
   "metadata": {},
   "outputs": [],
   "source": [
    "# Lets call the genetic algorithm functions \n",
    "from Operators.genetic_algorithm import *\n",
    "\n",
    "%load_ext autoreload\n",
    "%autoreload 2"
   ]
  },
  {
   "cell_type": "markdown",
   "id": "187000dc",
   "metadata": {},
   "source": [
    "## 3. Grid Search <a class=\"anchor\" id=\"grid_search\"></a>\n",
    "[Back to ToC](#toc)<br>"
   ]
  },
  {
   "cell_type": "markdown",
   "id": "cbfea3e3",
   "metadata": {},
   "source": [
    "## 3.1. Grid Search 1 - Mutation, Crossover, Selection, Elitism <a class=\"anchor\" id=\"grid_search_1\"></a>\n",
    "[Back to 3. Grid Search](#grid_search)<br>\n",
    "\n",
    "This grid search explores different combinations of mutation, crossover, and selection operators, both with and without elitism, to identify which setup yields the most consistent and optimal results across 30 runs."
   ]
  },
  {
   "cell_type": "code",
   "execution_count": null,
   "id": "41219df8",
   "metadata": {},
   "outputs": [],
   "source": [
    "# Define the parameter grid\n",
    "param_grid = {\n",
    "        \"POP_SIZE\": [100],\n",
    "        \"mut_prob\": [0.1],\n",
    "        \"xo_prob\":  [0.9],\n",
    "        \"mutation\": [single_player_swap_2teams, single_player_shift_all_teams, full_position_swap_2teams],\n",
    "        \"crossover\": [crossover_swap_whole_position, crossover_swap_extreme_player],\n",
    "        \"selection_algorithm\": [roulette_selection, tournament_selection],\n",
    "        \"elitism\":[True, False]}"
   ]
  },
  {
   "cell_type": "code",
   "execution_count": null,
   "id": "6e4c8783",
   "metadata": {},
   "outputs": [
    {
     "name": "stderr",
     "output_type": "stream",
     "text": [
      "Grid Search Progress: 100%|██████████| 24/24 [1:08:19<00:00, 170.80s/config]"
     ]
    },
    {
     "name": "stdout",
     "output_type": "stream",
     "text": [
      "\n",
      "Summary saved to: ga_summary_elit.csv\n"
     ]
    },
    {
     "name": "stderr",
     "output_type": "stream",
     "text": [
      "\n"
     ]
    }
   ],
   "source": [
    "run_grid_search(\n",
    "    param_grid=param_grid,\n",
    "    n_runs=30,\n",
    "    max_gen=40,\n",
    "    filepath=\"Data/players(in).csv\",           \n",
    "    summary_path=\"ga_summary_elit.csv\",            \n",
    "    output_folder=\"fitness_logs_elit\"              # folder to save 30x200 convergence logs\n",
    ")"
   ]
  },
  {
   "cell_type": "markdown",
   "id": "4b485149",
   "metadata": {},
   "source": [
    "## 3.2. Grid Search 2 - Best Mutation, Crossover and Selection Algorithm  <a class=\"anchor\" id=\"grid_search_2\"></a>\n",
    "[Back to 3. Grid Search](#grid_search)<br>\n",
    "\n",
    "This final focused grid search tests how different mutation and crossover probabilities affect performance specifically for the combination of `full_position_swap_2teams` and `crossover_swap_extreme_player`, which showed less stable results in earlier tests."
   ]
  },
  {
   "cell_type": "code",
   "execution_count": null,
   "id": "1db97bf1",
   "metadata": {},
   "outputs": [],
   "source": [
    "param_grid = {\n",
    "        \"POP_SIZE\": [100],\n",
    "        \"mut_prob\": [0.1, 0.5, 0.9],\n",
    "        \"xo_prob\":  [0.1, 0.5, 0.9],\n",
    "        \"mutation\": [full_position_swap_2teams],\n",
    "        \"crossover\": [crossover_swap_extreme_player],\n",
    "        \"selection_algorithm\": [roulette_selection],\n",
    "        \"elitism\":[False]}"
   ]
  },
  {
   "cell_type": "code",
   "execution_count": null,
   "id": "fd9bfa37",
   "metadata": {},
   "outputs": [
    {
     "name": "stderr",
     "output_type": "stream",
     "text": [
      "Grid Search Progress:   0%|          | 0/9 [00:00<?, ?config/s]"
     ]
    },
    {
     "name": "stderr",
     "output_type": "stream",
     "text": [
      "Grid Search Progress: 100%|██████████| 9/9 [44:15<00:00, 295.10s/config]"
     ]
    },
    {
     "name": "stdout",
     "output_type": "stream",
     "text": [
      "\n",
      "Summary saved to: ga_summary4_elit.csv\n"
     ]
    },
    {
     "name": "stderr",
     "output_type": "stream",
     "text": [
      "\n"
     ]
    }
   ],
   "source": [
    "run_grid_search(\n",
    "    param_grid=param_grid,\n",
    "    n_runs=30,\n",
    "    max_gen=40,\n",
    "    filepath=\"Data/players(in).csv\",           \n",
    "    summary_path=\"ga_summary_gs2.csv\",            \n",
    "    output_folder=\"fitness_logs_gs2\"            \n",
    ")"
   ]
  },
  {
   "cell_type": "markdown",
   "id": "05471f1f",
   "metadata": {},
   "source": [
    "# 4. Conclusion <a class=\"anchor\" id=\"conclusion\"></a>\n",
    "[Back to ToC](#toc)<br>\n",
    "\n",
    "The first grid search will be evaluated in the `evaluation_gsp1` notebook, and the second in `evaluation_gsp2`."
   ]
  }
 ],
 "metadata": {
  "kernelspec": {
   "display_name": "TextMining",
   "language": "python",
   "name": "python3"
  },
  "language_info": {
   "codemirror_mode": {
    "name": "ipython",
    "version": 3
   },
   "file_extension": ".py",
   "mimetype": "text/x-python",
   "name": "python",
   "nbconvert_exporter": "python",
   "pygments_lexer": "ipython3",
   "version": "3.12.6"
  }
 },
 "nbformat": 4,
 "nbformat_minor": 5
}
